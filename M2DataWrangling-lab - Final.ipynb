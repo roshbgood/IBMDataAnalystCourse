{
    "metadata": {
        "kernelspec": {
            "name": "python3",
            "display_name": "Python 3",
            "language": "python"
        },
        "language_info": {
            "name": "python",
            "version": "3.8.3",
            "mimetype": "text/x-python",
            "codemirror_mode": {
                "name": "ipython",
                "version": 3
            },
            "pygments_lexer": "ipython3",
            "nbconvert_exporter": "python",
            "file_extension": ".py"
        }
    },
    "nbformat_minor": 2,
    "nbformat": 4,
    "cells": [
        {
            "cell_type": "markdown",
            "source": [
                "<p style=\"text-align:center\">\n",
                "    <a href=\"https://skills.network/?utm_medium=Exinfluencer&utm_source=Exinfluencer&utm_content=000026UJ&utm_term=10006555&utm_id=NA-SkillsNetwork-Channel-SkillsNetworkCoursesIBMDA0321ENSkillsNetwork928-2022-01-01\" target=\"_blank\">\n",
                "    <img src=\"https://cf-courses-data.s3.us.cloud-object-storage.appdomain.cloud/assets/logos/SN_web_lightmode.png\" width=\"200\" alt=\"Skills Network Logo\"  />\n",
                "    </a>\n",
                "</p>\n"
            ],
            "metadata": {
                "azdata_cell_guid": "0307f2ec-e8af-4c6d-a663-581ea0cedfac"
            }
        },
        {
            "cell_type": "markdown",
            "source": [
                "# **Data Wrangling Lab**\n"
            ],
            "metadata": {
                "azdata_cell_guid": "95d62a5b-413a-44e0-8981-a472b799b6dd"
            }
        },
        {
            "cell_type": "markdown",
            "source": [
                "Estimated time needed: **45 to 60** minutes\n"
            ],
            "metadata": {
                "azdata_cell_guid": "542c2770-102b-46e9-af94-6027042ba55d"
            }
        },
        {
            "cell_type": "markdown",
            "source": [
                "In this assignment you will be performing data wrangling.\n"
            ],
            "metadata": {
                "azdata_cell_guid": "efaf1189-5ec6-4222-8e96-8a9ac12ecba1"
            }
        },
        {
            "cell_type": "markdown",
            "source": [
                "## Objectives\n"
            ],
            "metadata": {
                "azdata_cell_guid": "e5bc06e2-1d52-4269-b26b-b229e481daba"
            }
        },
        {
            "cell_type": "markdown",
            "source": [
                "In this lab you will perform the following:\n"
            ],
            "metadata": {
                "azdata_cell_guid": "b0246d27-7973-464d-8f1f-4d79464a0ec4"
            }
        },
        {
            "cell_type": "markdown",
            "source": [
                "-   Identify duplicate values in the dataset.\n",
                "\n",
                "-   Remove duplicate values from the dataset.\n",
                "\n",
                "-   Identify missing values in the dataset.\n",
                "\n",
                "-   Impute the missing values in the dataset.\n",
                "\n",
                "-   Normalize data in the dataset.\n"
            ],
            "metadata": {
                "azdata_cell_guid": "a909dd18-fb4b-4abe-8cc5-d911c681d348"
            }
        },
        {
            "cell_type": "markdown",
            "source": [
                "<hr>\n"
            ],
            "metadata": {
                "azdata_cell_guid": "1b1604e4-f9b5-4d36-b7ef-0b69b83d998c"
            }
        },
        {
            "cell_type": "markdown",
            "source": [
                "## Hands on Lab\n"
            ],
            "metadata": {
                "azdata_cell_guid": "b301fa8d-605d-4537-aa23-929314f35af8"
            }
        },
        {
            "cell_type": "markdown",
            "source": [
                "Import pandas module.\n"
            ],
            "metadata": {
                "azdata_cell_guid": "d4203b7a-33f4-4106-a54a-6b23319d82ef"
            }
        },
        {
            "cell_type": "code",
            "source": [
                "import pandas as pd"
            ],
            "metadata": {
                "tags": [],
                "azdata_cell_guid": "bdc6f9b5-30c0-4238-993f-b426b6b411d6",
                "language": "python"
            },
            "outputs": [],
            "execution_count": 1
        },
        {
            "cell_type": "markdown",
            "source": [
                "Load the dataset into a dataframe.\n"
            ],
            "metadata": {
                "azdata_cell_guid": "e9ced713-88e7-419b-a0ef-eb6a0e919639"
            }
        },
        {
            "cell_type": "code",
            "source": [
                "df = pd.read_csv(\"https://cf-courses-data.s3.us.cloud-object-storage.appdomain.cloud/IBM-DA0321EN-SkillsNetwork/LargeData/m1_survey_data.csv\")"
            ],
            "metadata": {
                "tags": [],
                "azdata_cell_guid": "f552a913-da7d-410a-b87a-e8f585590ad7",
                "language": "python"
            },
            "outputs": [],
            "execution_count": 2
        },
        {
            "cell_type": "markdown",
            "source": [
                "## Finding duplicates\n"
            ],
            "metadata": {
                "azdata_cell_guid": "f1e921db-d92e-423c-90f1-71282b128d36"
            }
        },
        {
            "cell_type": "markdown",
            "source": [
                "In this section you will identify duplicate values in the dataset.\n"
            ],
            "metadata": {
                "azdata_cell_guid": "ea9e8fa1-0cec-419e-89cb-bbf3a27ef41e"
            }
        },
        {
            "cell_type": "markdown",
            "source": [
                " Find how many duplicate rows exist in the dataframe.\n"
            ],
            "metadata": {
                "azdata_cell_guid": "bd403723-73f8-469f-99de-911a112ed470"
            }
        },
        {
            "cell_type": "code",
            "source": [
                "\n",
                "# Find duplicate rows\n",
                "duplicate_rows = df.duplicated()\n",
                "\n",
                "# Count the number of duplicate rows\n",
                "num_duplicate_rows = duplicate_rows.sum()\n",
                "\n",
                "# Print the count of duplicate rows\n",
                "print(\"Number of Duplicate Rows:\", num_duplicate_rows)"
            ],
            "metadata": {
                "tags": [],
                "azdata_cell_guid": "22160f1a-9472-4d6c-8306-a62e673c8fac",
                "language": "python"
            },
            "outputs": [
                {
                    "name": "stdout",
                    "text": "Number of Duplicate Rows: 154\n",
                    "output_type": "stream"
                }
            ],
            "execution_count": 3
        },
        {
            "cell_type": "markdown",
            "source": [
                "## Removing duplicates\n"
            ],
            "metadata": {
                "azdata_cell_guid": "869fa7c0-c235-4190-a1f9-f39d4f35c97f"
            }
        },
        {
            "cell_type": "markdown",
            "source": [
                "Remove the duplicate rows from the dataframe.\n"
            ],
            "metadata": {
                "azdata_cell_guid": "e1bb8ccc-d212-4551-b90e-f3b4f2a1b296"
            }
        },
        {
            "cell_type": "code",
            "source": [
                "# Remove duplicate rows\n",
                "df = df.drop_duplicates()\n",
                "\n",
                "\n"
            ],
            "metadata": {
                "tags": [],
                "azdata_cell_guid": "72924499-1d73-4900-ad6d-4965837bec07",
                "language": "python"
            },
            "outputs": [],
            "execution_count": 4
        },
        {
            "cell_type": "markdown",
            "source": [
                "Verify if duplicates were actually dropped.\n"
            ],
            "metadata": {
                "azdata_cell_guid": "fd9ca856-f9b9-4b29-98ef-11733c153aa2"
            }
        },
        {
            "cell_type": "code",
            "source": [
                "# Find duplicate rows\n",
                "duplicate_rows2 = df.duplicated()\n",
                "\n",
                "# Count the number of duplicate rows\n",
                "num_duplicate_rows2 = duplicate_rows2.sum()\n",
                "\n",
                "# Print the count of duplicate rows\n",
                "print(\"Number of Duplicate Rows:\", num_duplicate_rows2)\n"
            ],
            "metadata": {
                "tags": [],
                "azdata_cell_guid": "43cc166d-7a47-460f-b195-2ccf4de6a6e1",
                "language": "python"
            },
            "outputs": [
                {
                    "name": "stdout",
                    "text": "Number of Duplicate Rows: 0\n",
                    "output_type": "stream"
                }
            ],
            "execution_count": 5
        },
        {
            "cell_type": "markdown",
            "source": [
                "## Finding Missing values\n"
            ],
            "metadata": {
                "azdata_cell_guid": "be494c43-7583-45fe-967f-7e8551f45fec"
            }
        },
        {
            "cell_type": "markdown",
            "source": [
                "Find the missing values for all columns.\n"
            ],
            "metadata": {
                "azdata_cell_guid": "90c2f763-9f3a-4f16-859d-a836ff579b9b"
            }
        },
        {
            "cell_type": "code",
            "source": [
                "missing_values = df.isnull()\n"
            ],
            "metadata": {
                "tags": [],
                "azdata_cell_guid": "6b6ed86e-ec25-45d7-9c4f-b534c2afd1b2",
                "language": "python"
            },
            "outputs": [],
            "execution_count": 6
        },
        {
            "cell_type": "markdown",
            "source": [
                "Find out how many rows are missing in the column 'WorkLoc'\n"
            ],
            "metadata": {
                "azdata_cell_guid": "ed63bd33-5aa9-40d1-9a1b-c0a1100879ed"
            }
        },
        {
            "cell_type": "code",
            "source": [
                "# Find missing values in the 'WorkLoc' column\n",
                "missing_rows = df['WorkLoc'].isnull().sum()\n",
                "\n",
                "# Print the number of missing rows in the 'WorkLoc' column\n",
                "print(\"Number of missing rows in 'WorkLoc' column:\", missing_rows)"
            ],
            "metadata": {
                "tags": [],
                "azdata_cell_guid": "f110289c-6935-40b2-b419-25eb5a39256f",
                "language": "python"
            },
            "outputs": [
                {
                    "name": "stdout",
                    "text": "Number of missing rows in 'WorkLoc' column: 32\n",
                    "output_type": "stream"
                }
            ],
            "execution_count": 7
        },
        {
            "cell_type": "markdown",
            "source": [
                "## Imputing missing values\n"
            ],
            "metadata": {
                "azdata_cell_guid": "2039765f-425f-4446-a8fd-46900124093a"
            }
        },
        {
            "cell_type": "markdown",
            "source": [
                "Find the  value counts for the column WorkLoc.\n"
            ],
            "metadata": {
                "azdata_cell_guid": "8e6691ef-288f-4ef2-b302-44c8859043eb"
            }
        },
        {
            "cell_type": "code",
            "source": [
                "# Calculate the value counts for the 'WorkLoc' column\n",
                "workloc_value_counts = df['WorkLoc'].value_counts()\n",
                "# Print the value counts\n",
                "print(workloc_value_counts)\n",
                ""
            ],
            "metadata": {
                "tags": [],
                "azdata_cell_guid": "fec97c17-3579-431c-9b4d-1c5d2bc1a634",
                "language": "python"
            },
            "outputs": [
                {
                    "name": "stdout",
                    "text": "Office                                            6806\nHome                                              3589\nOther place, such as a coworking space or cafe     971\nName: WorkLoc, dtype: int64\n",
                    "output_type": "stream"
                }
            ],
            "execution_count": 9
        },
        {
            "cell_type": "markdown",
            "source": [
                "Identify the value that is most frequent (majority) in the WorkLoc column.\n"
            ],
            "metadata": {
                "azdata_cell_guid": "1efc93a6-2010-49c2-95e0-7a0352e71d4e"
            }
        },
        {
            "cell_type": "code",
            "source": [
                "#make a note of the majority value here, for future reference\n",
                "#Office"
            ],
            "metadata": {
                "tags": [],
                "azdata_cell_guid": "6dbeea46-4d9f-461e-bec9-22effa18e862",
                "language": "python"
            },
            "outputs": [],
            "execution_count": 16
        },
        {
            "cell_type": "markdown",
            "source": [
                "Impute (replace) all the empty rows in the column WorkLoc with the value that you have identified as majority.\n"
            ],
            "metadata": {
                "azdata_cell_guid": "29fa9b61-4dd9-4c68-8c8d-8c3f9d58e9bf"
            }
        },
        {
            "cell_type": "code",
            "source": [
                "# Replace empty rows in WorkLoc with \"Office\n",
                "df['WorkLoc'].fillna(\"Office\", inplace=True)"
            ],
            "metadata": {
                "tags": [],
                "azdata_cell_guid": "fab9564e-896e-418c-b1f4-e94ca9b486fb",
                "language": "python"
            },
            "outputs": [],
            "execution_count": 20
        },
        {
            "cell_type": "markdown",
            "source": [
                "After imputation there should ideally not be any empty rows in the WorkLoc column.\n"
            ],
            "metadata": {
                "azdata_cell_guid": "9c131249-3e53-46cd-856e-ae7378917993"
            }
        },
        {
            "cell_type": "markdown",
            "source": [
                "Verify if imputing was successful.\n"
            ],
            "metadata": {
                "azdata_cell_guid": "01ebd76b-e7bb-4301-bf0b-bfbb27a8cb3b"
            }
        },
        {
            "cell_type": "code",
            "source": [
                "missing_rows = df['WorkLoc'].isnull().sum()\n",
                "print(\"Number of missing rows in 'WorkLoc' column after replacement:\", missing_rows)"
            ],
            "metadata": {
                "tags": [],
                "azdata_cell_guid": "c0fad1d6-b5c1-490f-9cce-5a7680e0cc6f",
                "language": "python"
            },
            "outputs": [
                {
                    "output_type": "stream",
                    "name": "stdout",
                    "text": "Number of missing rows in 'WorkLoc' column after replacement: 0\n"
                }
            ],
            "execution_count": 21
        },
        {
            "cell_type": "markdown",
            "source": [
                "## Normalizing data\n"
            ],
            "metadata": {
                "azdata_cell_guid": "3c8ca5bb-c239-441b-a872-fc162be4300a"
            }
        },
        {
            "cell_type": "markdown",
            "source": [
                "There are two columns in the dataset that talk about compensation.\n",
                "\n",
                "One is \"CompFreq\". This column shows how often a developer is paid (Yearly, Monthly, Weekly).\n",
                "\n",
                "The other is \"CompTotal\". This column talks about how much the developer is paid per Year, Month, or Week depending upon his/her \"CompFreq\". \n",
                "\n",
                "This makes it difficult to compare the total compensation of the developers.\n",
                "\n",
                "In this section you will create a new column called 'NormalizedAnnualCompensation' which contains the 'Annual Compensation' irrespective of the 'CompFreq'.\n",
                "\n",
                "Once this column is ready, it makes comparison of salaries easy.\n"
            ],
            "metadata": {
                "azdata_cell_guid": "64d8e32c-1582-40b5-8e53-f6abac27f95f"
            }
        },
        {
            "cell_type": "markdown",
            "source": [
                "<hr>\n"
            ],
            "metadata": {
                "azdata_cell_guid": "e1eb7dcb-3ff9-4f09-a9ea-247269a16f4e"
            }
        },
        {
            "cell_type": "markdown",
            "source": [
                "List out the various categories in the column 'CompFreq'\n"
            ],
            "metadata": {
                "azdata_cell_guid": "59f6efba-a002-4dd4-814a-114315091e96"
            }
        },
        {
            "cell_type": "code",
            "source": [
                "# Get the unique categories in the 'CompFreq' column\n",
                "comp_freq_categories = dataframe['CompFreq'].unique()\n",
                "\n",
                "# Print the unique categories\n",
                "print(comp_freq_categories)"
            ],
            "metadata": {
                "tags": [],
                "azdata_cell_guid": "8a0c8505-2eae-4717-a400-da38436bd832",
                "language": "python"
            },
            "outputs": [
                {
                    "output_type": "stream",
                    "name": "stdout",
                    "text": "['Yearly' 'Monthly' 'Weekly' nan]\n"
                }
            ],
            "execution_count": 22
        },
        {
            "cell_type": "markdown",
            "source": [
                "Create a new column named 'NormalizedAnnualCompensation'. Use the hint given below if needed.\n"
            ],
            "metadata": {
                "azdata_cell_guid": "19838850-e56f-4439-bfe3-e3a7eb404875"
            }
        },
        {
            "cell_type": "markdown",
            "source": [
                "Double click to see the **Hint**.\n",
                "\n",
                "<!--\n",
                "\n",
                "Use the below logic to arrive at the values for the column NormalizedAnnualCompensation.\n",
                "\n",
                "If the CompFreq is Yearly then use the exising value in CompTotal\n",
                "If the CompFreq is Monthly then multiply the value in CompTotal with 12 (months in an year)\n",
                "If the CompFreq is Weekly then multiply the value in CompTotal with 52 (weeks in an year)\n",
                "\n",
                "-->\n"
            ],
            "metadata": {
                "azdata_cell_guid": "764eddf0-9972-4d37-b621-5052a48f9b4c"
            }
        },
        {
            "cell_type": "code",
            "source": [
                "# Create the 'NormalizedAnnualCompensation' column\n",
                "df['NormalizedAnnualCompensation'] = dataframe.apply(lambda row: row['CompTotal'] * 12 if row['CompFreq'] == 'Monthly' else (row['CompTotal'] * 52 if row['CompFreq'] == 'Weekly' else row['CompTotal']), axis=1)\n",
                "\n",
                "df.head()\n"
            ],
            "metadata": {
                "tags": [],
                "azdata_cell_guid": "401052f7-bf3a-41d2-8b2c-af0a1c036196",
                "language": "python"
            },
            "outputs": [
                {
                    "output_type": "execute_result",
                    "execution_count": 30,
                    "data": {
                        "text/html": "<div>\n<style scoped>\n    .dataframe tbody tr th:only-of-type {\n        vertical-align: middle;\n    }\n\n    .dataframe tbody tr th {\n        vertical-align: top;\n    }\n\n    .dataframe thead th {\n        text-align: right;\n    }\n</style>\n<table border=\"1\" class=\"dataframe\">\n  <thead>\n    <tr style=\"text-align: right;\">\n      <th></th>\n      <th>Respondent</th>\n      <th>MainBranch</th>\n      <th>Hobbyist</th>\n      <th>OpenSourcer</th>\n      <th>OpenSource</th>\n      <th>Employment</th>\n      <th>Country</th>\n      <th>Student</th>\n      <th>EdLevel</th>\n      <th>UndergradMajor</th>\n      <th>...</th>\n      <th>SONewContent</th>\n      <th>Age</th>\n      <th>Gender</th>\n      <th>Trans</th>\n      <th>Sexuality</th>\n      <th>Ethnicity</th>\n      <th>Dependents</th>\n      <th>SurveyLength</th>\n      <th>SurveyEase</th>\n      <th>NormalizedAnnualCompensation</th>\n    </tr>\n  </thead>\n  <tbody>\n    <tr>\n      <th>0</th>\n      <td>4</td>\n      <td>I am a developer by profession</td>\n      <td>No</td>\n      <td>Never</td>\n      <td>The quality of OSS and closed source software ...</td>\n      <td>Employed full-time</td>\n      <td>United States</td>\n      <td>No</td>\n      <td>Bachelor’s degree (BA, BS, B.Eng., etc.)</td>\n      <td>Computer science, computer engineering, or sof...</td>\n      <td>...</td>\n      <td>Tech articles written by other developers;Indu...</td>\n      <td>22.0</td>\n      <td>Man</td>\n      <td>No</td>\n      <td>Straight / Heterosexual</td>\n      <td>White or of European descent</td>\n      <td>No</td>\n      <td>Appropriate in length</td>\n      <td>Easy</td>\n      <td>61000.0</td>\n    </tr>\n    <tr>\n      <th>1</th>\n      <td>9</td>\n      <td>I am a developer by profession</td>\n      <td>Yes</td>\n      <td>Once a month or more often</td>\n      <td>The quality of OSS and closed source software ...</td>\n      <td>Employed full-time</td>\n      <td>New Zealand</td>\n      <td>No</td>\n      <td>Some college/university study without earning ...</td>\n      <td>Computer science, computer engineering, or sof...</td>\n      <td>...</td>\n      <td>NaN</td>\n      <td>23.0</td>\n      <td>Man</td>\n      <td>No</td>\n      <td>Bisexual</td>\n      <td>White or of European descent</td>\n      <td>No</td>\n      <td>Appropriate in length</td>\n      <td>Neither easy nor difficult</td>\n      <td>138000.0</td>\n    </tr>\n    <tr>\n      <th>2</th>\n      <td>13</td>\n      <td>I am a developer by profession</td>\n      <td>Yes</td>\n      <td>Less than once a month but more than once per ...</td>\n      <td>OSS is, on average, of HIGHER quality than pro...</td>\n      <td>Employed full-time</td>\n      <td>United States</td>\n      <td>No</td>\n      <td>Master’s degree (MA, MS, M.Eng., MBA, etc.)</td>\n      <td>Computer science, computer engineering, or sof...</td>\n      <td>...</td>\n      <td>Tech articles written by other developers;Cour...</td>\n      <td>28.0</td>\n      <td>Man</td>\n      <td>No</td>\n      <td>Straight / Heterosexual</td>\n      <td>White or of European descent</td>\n      <td>Yes</td>\n      <td>Appropriate in length</td>\n      <td>Easy</td>\n      <td>90000.0</td>\n    </tr>\n    <tr>\n      <th>3</th>\n      <td>16</td>\n      <td>I am a developer by profession</td>\n      <td>Yes</td>\n      <td>Never</td>\n      <td>The quality of OSS and closed source software ...</td>\n      <td>Employed full-time</td>\n      <td>United Kingdom</td>\n      <td>No</td>\n      <td>Master’s degree (MA, MS, M.Eng., MBA, etc.)</td>\n      <td>NaN</td>\n      <td>...</td>\n      <td>Tech articles written by other developers;Indu...</td>\n      <td>26.0</td>\n      <td>Man</td>\n      <td>No</td>\n      <td>Straight / Heterosexual</td>\n      <td>White or of European descent</td>\n      <td>No</td>\n      <td>Appropriate in length</td>\n      <td>Neither easy nor difficult</td>\n      <td>348000.0</td>\n    </tr>\n    <tr>\n      <th>4</th>\n      <td>17</td>\n      <td>I am a developer by profession</td>\n      <td>Yes</td>\n      <td>Less than once a month but more than once per ...</td>\n      <td>The quality of OSS and closed source software ...</td>\n      <td>Employed full-time</td>\n      <td>Australia</td>\n      <td>No</td>\n      <td>Bachelor’s degree (BA, BS, B.Eng., etc.)</td>\n      <td>Computer science, computer engineering, or sof...</td>\n      <td>...</td>\n      <td>Tech articles written by other developers;Indu...</td>\n      <td>29.0</td>\n      <td>Man</td>\n      <td>No</td>\n      <td>Straight / Heterosexual</td>\n      <td>Hispanic or Latino/Latina;Multiracial</td>\n      <td>No</td>\n      <td>Appropriate in length</td>\n      <td>Easy</td>\n      <td>90000.0</td>\n    </tr>\n  </tbody>\n</table>\n<p>5 rows × 86 columns</p>\n</div>",
                        "text/plain": "   Respondent                      MainBranch Hobbyist  \\\n0           4  I am a developer by profession       No   \n1           9  I am a developer by profession      Yes   \n2          13  I am a developer by profession      Yes   \n3          16  I am a developer by profession      Yes   \n4          17  I am a developer by profession      Yes   \n\n                                         OpenSourcer  \\\n0                                              Never   \n1                         Once a month or more often   \n2  Less than once a month but more than once per ...   \n3                                              Never   \n4  Less than once a month but more than once per ...   \n\n                                          OpenSource          Employment  \\\n0  The quality of OSS and closed source software ...  Employed full-time   \n1  The quality of OSS and closed source software ...  Employed full-time   \n2  OSS is, on average, of HIGHER quality than pro...  Employed full-time   \n3  The quality of OSS and closed source software ...  Employed full-time   \n4  The quality of OSS and closed source software ...  Employed full-time   \n\n          Country Student                                            EdLevel  \\\n0   United States      No           Bachelor’s degree (BA, BS, B.Eng., etc.)   \n1     New Zealand      No  Some college/university study without earning ...   \n2   United States      No        Master’s degree (MA, MS, M.Eng., MBA, etc.)   \n3  United Kingdom      No        Master’s degree (MA, MS, M.Eng., MBA, etc.)   \n4       Australia      No           Bachelor’s degree (BA, BS, B.Eng., etc.)   \n\n                                      UndergradMajor  ...  \\\n0  Computer science, computer engineering, or sof...  ...   \n1  Computer science, computer engineering, or sof...  ...   \n2  Computer science, computer engineering, or sof...  ...   \n3                                                NaN  ...   \n4  Computer science, computer engineering, or sof...  ...   \n\n                                        SONewContent   Age Gender Trans  \\\n0  Tech articles written by other developers;Indu...  22.0    Man    No   \n1                                                NaN  23.0    Man    No   \n2  Tech articles written by other developers;Cour...  28.0    Man    No   \n3  Tech articles written by other developers;Indu...  26.0    Man    No   \n4  Tech articles written by other developers;Indu...  29.0    Man    No   \n\n                 Sexuality                              Ethnicity Dependents  \\\n0  Straight / Heterosexual           White or of European descent         No   \n1                 Bisexual           White or of European descent         No   \n2  Straight / Heterosexual           White or of European descent        Yes   \n3  Straight / Heterosexual           White or of European descent         No   \n4  Straight / Heterosexual  Hispanic or Latino/Latina;Multiracial         No   \n\n            SurveyLength                  SurveyEase  \\\n0  Appropriate in length                        Easy   \n1  Appropriate in length  Neither easy nor difficult   \n2  Appropriate in length                        Easy   \n3  Appropriate in length  Neither easy nor difficult   \n4  Appropriate in length                        Easy   \n\n  NormalizedAnnualCompensation  \n0                      61000.0  \n1                     138000.0  \n2                      90000.0  \n3                     348000.0  \n4                      90000.0  \n\n[5 rows x 86 columns]"
                    },
                    "metadata": {}
                }
            ],
            "execution_count": 30
        },
        {
            "cell_type": "markdown",
            "source": [
                "## Authors\n"
            ],
            "metadata": {
                "azdata_cell_guid": "d0e23170-f032-4acb-b7db-d3e923d642e8"
            }
        },
        {
            "cell_type": "markdown",
            "source": [
                "Ramesh Sannareddy\n"
            ],
            "metadata": {
                "azdata_cell_guid": "dd710132-28b8-424c-adab-c9b9defd6ccd"
            }
        },
        {
            "cell_type": "markdown",
            "source": [
                "### Other Contributors\n"
            ],
            "metadata": {
                "azdata_cell_guid": "6a88f663-fb70-4cf6-9efa-0648a0fbe637"
            }
        },
        {
            "cell_type": "markdown",
            "source": [
                "Rav Ahuja\n"
            ],
            "metadata": {
                "azdata_cell_guid": "5ca66366-398d-4ce3-92df-fd7f8ff5c41c"
            }
        },
        {
            "cell_type": "markdown",
            "source": [
                "## Change Log\n"
            ],
            "metadata": {
                "azdata_cell_guid": "47526de7-2a54-420e-bb9e-d24f79cb7ad3"
            }
        },
        {
            "cell_type": "markdown",
            "source": [
                "| Date (YYYY-MM-DD) | Version | Changed By        | Change Description                 |\n",
                "| ----------------- | ------- | ----------------- | ---------------------------------- |\n",
                "| 2020-10-17        | 0.1     | Ramesh Sannareddy | Created initial version of the lab |\n"
            ],
            "metadata": {
                "azdata_cell_guid": "1d9e6ba7-1d72-4464-aa82-7bfba94cea2f"
            }
        },
        {
            "cell_type": "markdown",
            "source": [
                " Copyright © 2020 IBM Corporation. This notebook and its source code are released under the terms of the [MIT License](https://cognitiveclass.ai/mit-license?utm_medium=Exinfluencer&utm_source=Exinfluencer&utm_content=000026UJ&utm_term=10006555&utm_id=NA-SkillsNetwork-Channel-SkillsNetworkCoursesIBMDA0321ENSkillsNetwork928-2022-01-01&cm_mmc=Email_Newsletter-_-Developer_Ed%2BTech-_-WW_WW-_-SkillsNetwork-Courses-IBM-DA0321EN-SkillsNetwork-21426264&cm_mmca1=000026UJ&cm_mmca2=10006555&cm_mmca3=M12345678&cvosrc=email.Newsletter.M12345678&cvo_campaign=000026UJ).\n"
            ],
            "metadata": {
                "azdata_cell_guid": "d0003d61-959c-4e48-8fa7-caf0d5a95ab0"
            }
        }
    ]
}