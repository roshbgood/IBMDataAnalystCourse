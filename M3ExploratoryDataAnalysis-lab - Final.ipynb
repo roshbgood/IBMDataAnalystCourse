{
    "metadata": {
        "kernelspec": {
            "name": "python3",
            "display_name": "Python 3",
            "language": "python"
        },
        "language_info": {
            "name": "python",
            "version": "3.8.3",
            "mimetype": "text/x-python",
            "codemirror_mode": {
                "name": "ipython",
                "version": 3
            },
            "pygments_lexer": "ipython3",
            "nbconvert_exporter": "python",
            "file_extension": ".py"
        }
    },
    "nbformat_minor": 2,
    "nbformat": 4,
    "cells": [
        {
            "cell_type": "markdown",
            "source": [
                "<p style=\"text-align:center\">\n",
                "    <a href=\"https://skills.network/?utm_medium=Exinfluencer&utm_source=Exinfluencer&utm_content=000026UJ&utm_term=10006555&utm_id=NA-SkillsNetwork-Channel-SkillsNetworkCoursesIBMDA0321ENSkillsNetwork928-2023-01-01\">\n",
                "    <img src=\"https://cf-courses-data.s3.us.cloud-object-storage.appdomain.cloud/assets/logos/SN_web_lightmode.png\" width=\"200\" alt=\"Skills Network Logo\"  />\n",
                "    </a>\n",
                "</p>\n"
            ],
            "metadata": {
                "azdata_cell_guid": "8d551ae9-5e05-4fbd-9262-2f4dbeab6745"
            }
        },
        {
            "cell_type": "markdown",
            "source": [
                "# **Exploratory Data Analysis Lab**\n"
            ],
            "metadata": {
                "azdata_cell_guid": "76378f50-ba9f-4ae1-b1ad-7ad8bb59dd09"
            }
        },
        {
            "cell_type": "markdown",
            "source": [
                "Estimated time needed: **30** minutes\n"
            ],
            "metadata": {
                "azdata_cell_guid": "aad4beb5-b2e9-4ae4-b40a-d08b208874f1"
            }
        },
        {
            "cell_type": "markdown",
            "source": [
                "In this module you get to work with the cleaned dataset from the previous module.\n",
                "\n",
                "In this assignment you will perform the task of exploratory data analysis.\n",
                "You will find out the distribution of data, presence of outliers and also determine the correlation between different columns in the dataset.\n"
            ],
            "metadata": {
                "azdata_cell_guid": "3ba1a7ce-bf14-4f44-837f-9143b87c8de5"
            }
        },
        {
            "cell_type": "markdown",
            "source": [
                "## Objectives\n"
            ],
            "metadata": {
                "azdata_cell_guid": "6172e0c6-954e-4e93-8313-c2f279466634"
            }
        },
        {
            "cell_type": "markdown",
            "source": [
                "In this lab you will perform the following:\n"
            ],
            "metadata": {
                "azdata_cell_guid": "9fdf66ea-5b71-4816-a256-5673a73e08db"
            }
        },
        {
            "cell_type": "markdown",
            "source": [
                "-   Identify the distribution of data in the dataset.\n",
                "\n",
                "-   Identify outliers in the dataset.\n",
                "\n",
                "-   Remove outliers from the dataset.\n",
                "\n",
                "-   Identify correlation between features in the dataset.\n"
            ],
            "metadata": {
                "azdata_cell_guid": "4a6aa54b-bdc5-428a-8812-d39496b05b21"
            }
        },
        {
            "cell_type": "markdown",
            "source": [
                "* * *\n"
            ],
            "metadata": {
                "azdata_cell_guid": "dda82179-b1f5-4a21-a2f1-943380a1b99a"
            }
        },
        {
            "cell_type": "markdown",
            "source": [
                "## Hands on Lab\n"
            ],
            "metadata": {
                "azdata_cell_guid": "bb121930-5e8c-4774-bea9-ffce4917c24d"
            }
        },
        {
            "cell_type": "markdown",
            "source": [
                "Import the pandas module.\n"
            ],
            "metadata": {
                "azdata_cell_guid": "b720eb4d-6e1d-4128-acce-cc41197b5a95"
            }
        },
        {
            "cell_type": "code",
            "source": [
                "import pandas as pd"
            ],
            "metadata": {
                "tags": [],
                "azdata_cell_guid": "f31a6c7e-0969-4809-8388-b191e1a912c4",
                "language": "python"
            },
            "outputs": [],
            "execution_count": 15
        },
        {
            "cell_type": "markdown",
            "source": [
                "Load the dataset into a dataframe.\n"
            ],
            "metadata": {
                "azdata_cell_guid": "8e5f5a40-a69a-42ba-8e97-f417e879bc16"
            }
        },
        {
            "cell_type": "code",
            "source": [
                "df = pd.read_csv(\"C:\\\\Users\\\\v-rosbho\\\\Downloads\\\\m2_survey_data.csv\")"
            ],
            "metadata": {
                "tags": [],
                "azdata_cell_guid": "87b5713d-22b0-4bbe-9955-c5081a9fda42",
                "language": "python"
            },
            "outputs": [],
            "execution_count": 16
        },
        {
            "cell_type": "markdown",
            "source": [
                "## Distribution\n"
            ],
            "metadata": {
                "azdata_cell_guid": "38b702e1-b8fe-4bd3-a081-157f1b8c6f09"
            }
        },
        {
            "cell_type": "markdown",
            "source": [
                "### Determine how the data is distributed\n"
            ],
            "metadata": {
                "azdata_cell_guid": "093bc100-79b2-4ad1-a277-14ff60a8d179"
            }
        },
        {
            "cell_type": "markdown",
            "source": [
                "The column `ConvertedComp` contains Salary converted to annual USD salaries using the exchange rate on 2019-02-01.\n",
                "\n",
                "This assumes 12 working months and 50 working weeks.\n"
            ],
            "metadata": {
                "azdata_cell_guid": "9187810c-0559-4ffa-8966-416ddae67f20"
            }
        },
        {
            "cell_type": "markdown",
            "source": [
                "Plot the distribution curve for the column `ConvertedComp`.\n"
            ],
            "metadata": {
                "azdata_cell_guid": "8c934dce-8b71-4e95-919e-9693432bd782"
            }
        },
        {
            "cell_type": "code",
            "source": [
                "import seaborn as sns\n",
                "import matplotlib.pyplot as plt\n",
                "\n",
                "# Remove any NaN values from the column\n",
                "converted_comp = df['ConvertedComp'].dropna()\n",
                "\n",
                "# Plot the distribution curve using seaborn\n",
                "plt.figure(figsize=(10, 6))\n",
                "sns.kdeplot(converted_comp, shade=True)\n",
                "plt.xlabel('Salary')\n",
                "plt.ylabel('Density')\n",
                "plt.title('Salary Distribution')\n",
                "\n",
                "plt.grid(True)\n",
                "plt.show()"
            ],
            "metadata": {
                "tags": [],
                "azdata_cell_guid": "b02b8cdd-537d-41ba-946e-35ce46ce2f5f",
                "language": "python"
            },
            "outputs": [
                {
                    "data": {
                        "text/plain": "<Figure size 720x432 with 1 Axes>",
                        "image/png": "[encoded data removed]"
                    },
                    "metadata": {
                        "needs_background": "light"
                    },
                    "output_type": "display_data"
                }
            ],
            "execution_count": 17
        },
        {
            "cell_type": "markdown",
            "source": [
                "Plot the histogram for the column `ConvertedComp`.\n"
            ],
            "metadata": {
                "azdata_cell_guid": "aea4b223-7a92-4b67-bcec-70e7660f1d67"
            }
        },
        {
            "cell_type": "code",
            "source": [
                "# your code goes here\n",
                "import matplotlib.pyplot as plt\n",
                "\n",
                "# Access the ConvertedComp column in the dataframe\n",
                "converted_comp = df['ConvertedComp']\n",
                "\n",
                "# Remove any NaN values from the column\n",
                "converted_comp = converted_comp.dropna()\n",
                "\n",
                "# Plot the distribution curve\n",
                "plt.figure(figsize=(10, 6))  \n",
                "converted_comp.plot.hist(bins=30, edgecolor='k', alpha=0.7)\n",
                "plt.xlabel('Salary')\n",
                "plt.ylabel('Frequency')\n",
                "plt.title('Salary Distribution')\n",
                "plt.grid(True)\n",
                "plt.show()"
            ],
            "metadata": {
                "tags": [],
                "azdata_cell_guid": "f57782ba-d895-4f5a-a619-0b885835c784",
                "language": "python"
            },
            "outputs": [
                {
                    "data": {
                        "text/plain": "<Figure size 720x432 with 1 Axes>",
                        "image/png": "[encoded data removed]"
                    },
                    "metadata": {
                        "needs_background": "light"
                    },
                    "output_type": "display_data"
                }
            ],
            "execution_count": 18
        },
        {
            "cell_type": "markdown",
            "source": [
                "What is the median of the column `ConvertedComp`?\n"
            ],
            "metadata": {
                "azdata_cell_guid": "f023025b-8776-4378-ba2e-08d024f6acbc"
            }
        },
        {
            "cell_type": "code",
            "source": [
                "# Median of column ConvertedComp\n",
                "\n",
                "median = df['ConvertedComp'].median()\n",
                "\n",
                "print(\"The median of ConvertedComp is\", median)"
            ],
            "metadata": {
                "tags": [],
                "azdata_cell_guid": "df6e1594-eeb2-471f-8540-ec871c4115b0",
                "language": "python"
            },
            "outputs": [
                {
                    "name": "stdout",
                    "text": "The median of ConvertedComp is 57745.0\n",
                    "output_type": "stream"
                }
            ],
            "execution_count": 19
        },
        {
            "cell_type": "markdown",
            "source": [
                "How many responders identified themselves only as a **Man**?\n"
            ],
            "metadata": {
                "azdata_cell_guid": "e1524c82-bcd1-438c-b29c-574f96555c1a"
            }
        },
        {
            "cell_type": "code",
            "source": [
                "# Filter the dataframe to include only rows where Gender is \"Man\"\n",
                "man_responders = df[df['Gender'] == 'Man']\n",
                "\n",
                "# Calculate the count of responders who identified only as a man\n",
                "count_man_responders = len(man_responders)\n",
                "\n",
                "# Print the count of responders\n",
                "print(\"Number of responders identified only as a man:\", count_man_responders)\n"
            ],
            "metadata": {
                "tags": [],
                "azdata_cell_guid": "2f899dfa-8696-4150-a83a-62258dc32381",
                "language": "python"
            },
            "outputs": [
                {
                    "name": "stdout",
                    "text": "Number of responders identified only as a man: 10480\n",
                    "output_type": "stream"
                }
            ],
            "execution_count": 20
        },
        {
            "cell_type": "markdown",
            "source": [
                "Find out the  median ConvertedComp of responders identified themselves only as a **Woman**?\n"
            ],
            "metadata": {
                "azdata_cell_guid": "e076f243-8d81-42c1-8c49-d4e4f2c531fe"
            }
        },
        {
            "cell_type": "code",
            "source": [
                "# Filter the dataframe to include only rows where Gender is \"Man\"\n",
                "woman_responders = df[df['Gender'] == 'Woman']\n",
                "\n",
                "# Calculate the count of responders who identified only as a man\n",
                "median_converted_comp_woman = woman_responders['ConvertedComp'].median()\n",
                "\n",
                "# Print the count of responders\n",
                "print(\"Number of responders identified only as a man:\", median_converted_comp_woman)\n"
            ],
            "metadata": {
                "tags": [],
                "azdata_cell_guid": "60d9bc03-b062-488b-9625-5674c2e5969b",
                "language": "python"
            },
            "outputs": [
                {
                    "name": "stdout",
                    "text": "Number of responders identified only as a man: 57708.0\n",
                    "output_type": "stream"
                }
            ],
            "execution_count": 21
        },
        {
            "cell_type": "markdown",
            "source": [
                "Give the five number summary for the column `Age`?\n"
            ],
            "metadata": {
                "azdata_cell_guid": "fae54ac6-2c51-432a-b0f5-5c11ab95d821"
            }
        },
        {
            "cell_type": "markdown",
            "source": [
                "**Double click here for hint**.\n",
                "\n",
                "<!--\n",
                "min,q1,median,q3,max of a column are its five number summary.\n",
                "-->\n"
            ],
            "metadata": {
                "azdata_cell_guid": "e4fb78d8-1ae0-452e-8ccf-48ac6cb1f10e"
            }
        },
        {
            "cell_type": "code",
            "source": [
                "# define ConvertedComp column in the dataframe\n",
                "age = df['Age']\n",
                "\n",
                "# Calculate the five-number summary\n",
                "summary = age.describe()\n",
                "\n",
                "# Print the five-number summary\n",
                "print(summary)\n"
            ],
            "metadata": {
                "tags": [],
                "azdata_cell_guid": "171aa197-5130-4cdb-8ced-2980f024289f",
                "language": "python"
            },
            "outputs": [
                {
                    "name": "stdout",
                    "text": "count    11111.000000\nmean        30.778895\nstd          7.393686\nmin         16.000000\n25%         25.000000\n50%         29.000000\n75%         35.000000\nmax         99.000000\nName: Age, dtype: float64\n",
                    "output_type": "stream"
                }
            ],
            "execution_count": 22
        },
        {
            "cell_type": "markdown",
            "source": [
                "Plot a histogram of the column `Age`.\n"
            ],
            "metadata": {
                "azdata_cell_guid": "3fa92402-b9de-4683-8e72-d86c164bdd89"
            }
        },
        {
            "cell_type": "code",
            "source": [
                "import matplotlib.pyplot as plt\n",
                "\n",
                "# Access the ConvertedComp column in the dataframe\n",
                "age = df['Age']\n",
                "\n",
                "# Remove any NaN values from the column\n",
                "age = age.dropna()\n",
                "\n",
                "# Plot the distribution curve\n",
                "plt.figure(figsize=(10, 6))  \n",
                "age.plot.hist(bins=30, edgecolor='k', alpha=0.7)\n",
                "plt.xlabel('Age')\n",
                "plt.ylabel('Frequency')\n",
                "plt.title('Age Distribution')\n",
                "plt.grid(True)\n",
                "plt.show()\n"
            ],
            "metadata": {
                "tags": [],
                "azdata_cell_guid": "631cb2e8-7623-464c-900a-3fcb29b1d2a3",
                "language": "python"
            },
            "outputs": [
                {
                    "data": {
                        "text/plain": "<Figure size 720x432 with 1 Axes>",
                        "image/png": "[encoded data removed]"
                    },
                    "metadata": {
                        "needs_background": "light"
                    },
                    "output_type": "display_data"
                }
            ],
            "execution_count": 23
        },
        {
            "cell_type": "markdown",
            "source": [
                "## Outliers\n"
            ],
            "metadata": {
                "azdata_cell_guid": "cdb0b19f-2e2b-44bf-b7fc-654960fde8ef"
            }
        },
        {
            "cell_type": "markdown",
            "source": [
                "### Finding outliers\n"
            ],
            "metadata": {
                "azdata_cell_guid": "65694257-c335-4648-9129-82210512607d"
            }
        },
        {
            "cell_type": "markdown",
            "source": [
                "Find out if outliers exist in the column `ConvertedComp` using a box plot?\n"
            ],
            "metadata": {
                "azdata_cell_guid": "38912726-5ddf-486a-832b-3e7ba6a0751b"
            }
        },
        {
            "cell_type": "code",
            "source": [
                "# Extract the 'ConvertedComp' column\n",
                "converted_comp = df['ConvertedComp']\n",
                "\n",
                "# Create the boxplot using Pandas\n",
                "converted_comp.plot(kind='box')\n",
                "\n",
                "# Set the title\n",
                "plt.title('Boxplot of Converted Compensation')\n",
                "\n",
                "# Display the plot\n",
                "plt.show()\n"
            ],
            "metadata": {
                "tags": [],
                "azdata_cell_guid": "2854ebe8-f6d0-4967-847d-110e247dc2b1",
                "language": "python"
            },
            "outputs": [
                {
                    "data": {
                        "text/plain": "<Figure size 432x288 with 1 Axes>",
                        "image/png": "[encoded data removed]"
                    },
                    "metadata": {
                        "needs_background": "light"
                    },
                    "output_type": "display_data"
                }
            ],
            "execution_count": 24
        },
        {
            "cell_type": "markdown",
            "source": [
                "Find out the Inter Quartile Range for the column `ConvertedComp`.\n"
            ],
            "metadata": {
                "azdata_cell_guid": "7a5bb230-c14e-4f68-abe6-470640808c45"
            }
        },
        {
            "cell_type": "code",
            "source": [
                "# Extract the 'ConvertedComp' column\n",
                "converted_comp = df['ConvertedComp']\n",
                "\n",
                "# Calculate the interquartile range (IQR)\n",
                "Q1 = converted_comp.quantile(0.25)\n",
                "Q3 = converted_comp.quantile(0.75)\n",
                "IQR = Q3 - Q1\n",
                "\n",
                "print(\"Interquartile Range (IQR):\", IQR)\n"
            ],
            "metadata": {
                "tags": [],
                "azdata_cell_guid": "3da8afb0-962b-4ed2-bf2a-97ab2208d304",
                "language": "python"
            },
            "outputs": [
                {
                    "name": "stdout",
                    "text": "Interquartile Range (IQR): 73132.0\n",
                    "output_type": "stream"
                }
            ],
            "execution_count": 25
        },
        {
            "cell_type": "markdown",
            "source": [
                "Find out the upper and lower bounds.\n"
            ],
            "metadata": {
                "azdata_cell_guid": "96f352cc-a113-459b-bf86-b88ad371ffbe"
            }
        },
        {
            "cell_type": "code",
            "source": [
                "# Extract the 'ConvertedComp' column\n",
                "converted_comp = df['ConvertedComp']\n",
                "\n",
                "# Calculate the lower and upper bounds\n",
                "Q1 = converted_comp.quantile(0.25)\n",
                "Q3 = converted_comp.quantile(0.75)\n",
                "IQR = Q3 - Q1\n",
                "\n",
                "lower_bound = Q1 - 1.5 * IQR\n",
                "upper_bound = Q3 + 1.5 * IQR\n",
                "\n",
                "print(\"Lower Bound:\", lower_bound)\n",
                "print(\"Upper Bound:\", upper_bound)"
            ],
            "metadata": {
                "tags": [],
                "azdata_cell_guid": "bb877655-e0ae-49a1-9870-3a13af038aea",
                "language": "python"
            },
            "outputs": [
                {
                    "name": "stdout",
                    "text": "Lower Bound: -82830.0\nUpper Bound: 209698.0\n",
                    "output_type": "stream"
                }
            ],
            "execution_count": 26
        },
        {
            "cell_type": "markdown",
            "source": [
                "Identify how many outliers are there in the `ConvertedComp` column.\n"
            ],
            "metadata": {
                "azdata_cell_guid": "043144ed-fe46-423a-b748-be13b73d54b3"
            }
        },
        {
            "cell_type": "code",
            "source": [
                "# Identify outliers\n",
                "outliers = converted_comp[(converted_comp < lower_bound) | (converted_comp > upper_bound)]\n",
                "\n",
                "# Count the number of outliers\n",
                "num_outliers = len(outliers)\n",
                "\n",
                "print(\"Number of outliers:\", num_outliers)\n"
            ],
            "metadata": {
                "tags": [],
                "azdata_cell_guid": "85de6b9b-9aaa-41af-85f7-7b75e52ff080",
                "language": "python"
            },
            "outputs": [
                {
                    "name": "stdout",
                    "text": "Number of outliers: 879\n",
                    "output_type": "stream"
                }
            ],
            "execution_count": 27
        },
        {
            "cell_type": "markdown",
            "source": [
                "Create a new dataframe by removing the outliers from the `ConvertedComp` column.\n"
            ],
            "metadata": {
                "azdata_cell_guid": "cfea674b-f33f-4a34-baf5-88b35307b0e9"
            }
        },
        {
            "cell_type": "code",
            "source": [
                "# Create a new DataFrame by removing outliers\n",
                "new_df = df[(converted_comp >= lower_bound) & (converted_comp <= upper_bound)]\n",
                "\n",
                "# Display the new DataFrame\n",
                "print(new_df)"
            ],
            "metadata": {
                "tags": [],
                "azdata_cell_guid": "ab900cce-da29-438b-8d89-d11b31fc0926",
                "language": "python"
            },
            "outputs": [
                {
                    "name": "stdout",
                    "text": "       Respondent                      MainBranch Hobbyist  \\\n0               4  I am a developer by profession       No   \n1               9  I am a developer by profession      Yes   \n2              13  I am a developer by profession      Yes   \n4              17  I am a developer by profession      Yes   \n5              19  I am a developer by profession      Yes   \n...           ...                             ...      ...   \n11392       25134  I am a developer by profession      Yes   \n11393       25136  I am a developer by profession      Yes   \n11394       25137  I am a developer by profession      Yes   \n11395       25138  I am a developer by profession      Yes   \n11396       25141  I am a developer by profession      Yes   \n\n                                             OpenSourcer  \\\n0                                                  Never   \n1                             Once a month or more often   \n2      Less than once a month but more than once per ...   \n4      Less than once a month but more than once per ...   \n5                                                  Never   \n...                                                  ...   \n11392  Less than once a month but more than once per ...   \n11393                                              Never   \n11394                                              Never   \n11395                            Less than once per year   \n11396  Less than once a month but more than once per ...   \n\n                                              OpenSource          Employment  \\\n0      The quality of OSS and closed source software ...  Employed full-time   \n1      The quality of OSS and closed source software ...  Employed full-time   \n2      OSS is, on average, of HIGHER quality than pro...  Employed full-time   \n4      The quality of OSS and closed source software ...  Employed full-time   \n5      The quality of OSS and closed source software ...  Employed full-time   \n...                                                  ...                 ...   \n11392  OSS is, on average, of HIGHER quality than pro...  Employed full-time   \n11393  OSS is, on average, of HIGHER quality than pro...  Employed full-time   \n11394  The quality of OSS and closed source software ...  Employed full-time   \n11395  The quality of OSS and closed source software ...  Employed full-time   \n11396  OSS is, on average, of LOWER quality than prop...  Employed full-time   \n\n             Country Student  \\\n0      United States      No   \n1        New Zealand      No   \n2      United States      No   \n4          Australia      No   \n5             Brazil      No   \n...              ...     ...   \n11392        Ecuador      No   \n11393  United States      No   \n11394         Poland      No   \n11395  United States      No   \n11396    Switzerland      No   \n\n                                                 EdLevel  \\\n0               Bachelor’s degree (BA, BS, B.Eng., etc.)   \n1      Some college/university study without earning ...   \n2            Master’s degree (MA, MS, M.Eng., MBA, etc.)   \n4               Bachelor’s degree (BA, BS, B.Eng., etc.)   \n5      Some college/university study without earning ...   \n...                                                  ...   \n11392           Bachelor’s degree (BA, BS, B.Eng., etc.)   \n11393        Master’s degree (MA, MS, M.Eng., MBA, etc.)   \n11394        Master’s degree (MA, MS, M.Eng., MBA, etc.)   \n11395        Master’s degree (MA, MS, M.Eng., MBA, etc.)   \n11396  Secondary school (e.g. American high school, G...   \n\n                                          UndergradMajor  ...  \\\n0      Computer science, computer engineering, or sof...  ...   \n1      Computer science, computer engineering, or sof...  ...   \n2      Computer science, computer engineering, or sof...  ...   \n4      Computer science, computer engineering, or sof...  ...   \n5      Computer science, computer engineering, or sof...  ...   \n...                                                  ...  ...   \n11392  Computer science, computer engineering, or sof...  ...   \n11393  Computer science, computer engineering, or sof...  ...   \n11394  Computer science, computer engineering, or sof...  ...   \n11395  Computer science, computer engineering, or sof...  ...   \n11396                                                NaN  ...   \n\n                                  WelcomeChange  \\\n0       Just as welcome now as I felt last year   \n1       Just as welcome now as I felt last year   \n2      Somewhat more welcome now than last year   \n4       Just as welcome now as I felt last year   \n5       Just as welcome now as I felt last year   \n...                                         ...   \n11392  Somewhat less welcome now than last year   \n11393   Just as welcome now as I felt last year   \n11394     A lot more welcome now than last year   \n11395     A lot more welcome now than last year   \n11396  Somewhat less welcome now than last year   \n\n                                            SONewContent   Age Gender Trans  \\\n0      Tech articles written by other developers;Indu...  22.0    Man    No   \n1                                                    NaN  23.0    Man    No   \n2      Tech articles written by other developers;Cour...  28.0    Man    No   \n4      Tech articles written by other developers;Indu...  29.0    Man    No   \n5      Tech articles written by other developers;Indu...  31.0    Man    No   \n...                                                  ...   ...    ...   ...   \n11392          Tech articles written by other developers  32.0    Man    No   \n11393  Tech articles written by other developers;Cour...  36.0    Man    No   \n11394  Tech articles written by other developers;Tech...  25.0    Man    No   \n11395  Tech articles written by other developers;Indu...  34.0    Man    No   \n11396                                                NaN  25.0    Man    No   \n\n                     Sexuality                              Ethnicity  \\\n0      Straight / Heterosexual           White or of European descent   \n1                     Bisexual           White or of European descent   \n2      Straight / Heterosexual           White or of European descent   \n4      Straight / Heterosexual  Hispanic or Latino/Latina;Multiracial   \n5      Straight / Heterosexual              Hispanic or Latino/Latina   \n...                        ...                                    ...   \n11392  Straight / Heterosexual              Hispanic or Latino/Latina   \n11393  Straight / Heterosexual           White or of European descent   \n11394  Straight / Heterosexual           White or of European descent   \n11395  Straight / Heterosexual           White or of European descent   \n11396  Straight / Heterosexual           White or of European descent   \n\n      Dependents           SurveyLength                  SurveyEase  \n0             No  Appropriate in length                        Easy  \n1             No  Appropriate in length  Neither easy nor difficult  \n2            Yes  Appropriate in length                        Easy  \n4             No  Appropriate in length                        Easy  \n5            Yes               Too long                        Easy  \n...          ...                    ...                         ...  \n11392         No  Appropriate in length                        Easy  \n11393         No  Appropriate in length                   Difficult  \n11394         No  Appropriate in length  Neither easy nor difficult  \n11395        Yes               Too long                        Easy  \n11396         No  Appropriate in length                        Easy  \n\n[9703 rows x 85 columns]\n",
                    "output_type": "stream"
                }
            ],
            "execution_count": 28
        },
        {
            "cell_type": "markdown",
            "source": [
                "## Correlation\n"
            ],
            "metadata": {
                "azdata_cell_guid": "7ff3c6cd-eb89-4a9e-93c7-6e67795e55d7"
            }
        },
        {
            "cell_type": "markdown",
            "source": [
                "### Finding correlation\n"
            ],
            "metadata": {
                "azdata_cell_guid": "cfd6e7e0-8cef-40ea-bc26-f2a9edbfb60e"
            }
        },
        {
            "cell_type": "markdown",
            "source": [
                "Find the correlation between `Age` and all other numerical columns.\n"
            ],
            "metadata": {
                "azdata_cell_guid": "cff4ff01-98ce-442b-88bd-e13ecc044076"
            }
        },
        {
            "cell_type": "code",
            "source": [
                "\n",
                "# Calculate the correlation between 'Age' and other numerical columns\n",
                "correlations = df.corr()['Age']\n",
                "\n",
                "# Display the correlations\n",
                "print(correlations)"
            ],
            "metadata": {
                "tags": [],
                "azdata_cell_guid": "f67b0768-7f98-4f94-9619-905031c0e448",
                "language": "python"
            },
            "outputs": [
                {
                    "name": "stdout",
                    "text": "Respondent       0.004041\nCompTotal        0.006970\nConvertedComp    0.105386\nWorkWeekHrs      0.036518\nCodeRevHrs      -0.020469\nAge              1.000000\nName: Age, dtype: float64\n",
                    "output_type": "stream"
                }
            ],
            "execution_count": 30
        },
        {
            "cell_type": "code",
            "source": [
                "print(df['CompTotal'])"
            ],
            "metadata": {
                "azdata_cell_guid": "fcc21ba8-ec87-40d9-bb22-1903635156d7",
                "language": "python"
            },
            "outputs": [
                {
                    "name": "stdout",
                    "text": "0         61000.0\n1        138000.0\n2         90000.0\n3         29000.0\n4         90000.0\n           ...   \n11393    130000.0\n11394     74400.0\n11395    105000.0\n11396     80000.0\n11397         NaN\nName: CompTotal, Length: 11398, dtype: float64\n",
                    "output_type": "stream"
                }
            ],
            "execution_count": 39
        },
        {
            "cell_type": "code",
            "source": [
                "# Plot histogram\r\n",
                "plt.hist(df['CompTotal'], bins=20)\r\n",
                "\r\n",
                "# Set labels and title\r\n",
                "plt.xlabel('Comp Total')\r\n",
                "plt.ylabel('Count of Respondents')\r\n",
                "plt.title('Histogram of Respondents and Comp Total')\r\n",
                "\r\n",
                "# Display the plot\r\n",
                "plt.show()"
            ],
            "metadata": {
                "language": "python",
                "azdata_cell_guid": "accf043f-6aa2-4f35-a3eb-ab9cf88112e4"
            },
            "outputs": [
                {
                    "data": {
                        "text/plain": "<Figure size 432x288 with 1 Axes>",
                        "image/png": "[encoded data removed]"
                    },
                    "metadata": {
                        "needs_background": "light"
                    },
                    "output_type": "display_data"
                }
            ],
            "execution_count": 43
        },
        {
            "cell_type": "markdown",
            "source": [
                "## Authors\n"
            ],
            "metadata": {
                "azdata_cell_guid": "51083605-cf64-43e9-b074-3f2d02af540a"
            }
        },
        {
            "cell_type": "markdown",
            "source": [
                "Ramesh Sannareddy\n"
            ],
            "metadata": {
                "azdata_cell_guid": "2cfa9473-4bd9-45a3-b685-ee0c26c536a6"
            }
        },
        {
            "cell_type": "markdown",
            "source": [
                "### Other Contributors\n"
            ],
            "metadata": {
                "azdata_cell_guid": "22ed5eb3-7530-43c3-baaf-f8462eee47ca"
            }
        },
        {
            "cell_type": "markdown",
            "source": [
                "Rav Ahuja\n"
            ],
            "metadata": {
                "azdata_cell_guid": "cb013b76-a652-45a0-af6c-41922969d8f9"
            }
        },
        {
            "cell_type": "markdown",
            "source": [
                "## Change Log\n"
            ],
            "metadata": {
                "azdata_cell_guid": "ed30e6d3-a709-44c2-ab41-80782528b623"
            }
        },
        {
            "cell_type": "markdown",
            "source": [
                "| Date (YYYY-MM-DD) | Version | Changed By        | Change Description                 |\n",
                "| ----------------- | ------- | ----------------- | ---------------------------------- |\n",
                "| 2020-10-17        | 0.1     | Ramesh Sannareddy | Created initial version of the lab |\n"
            ],
            "metadata": {
                "azdata_cell_guid": "54992551-815e-403b-9416-519c9783eeab"
            }
        },
        {
            "cell_type": "markdown",
            "source": [
                " Copyright © 2020 IBM Corporation. This notebook and its source code are released under the terms of the [MIT License](https://cognitiveclass.ai/mit-license?utm_medium=Exinfluencer&utm_source=Exinfluencer&utm_content=000026UJ&utm_term=10006555&utm_id=NA-SkillsNetwork-Channel-SkillsNetworkCoursesIBMDA0321ENSkillsNetwork928-2023-01-01&cm_mmc=Email_Newsletter-_-Developer_Ed%2BTech-_-WW_WW-_-SkillsNetwork-Courses-IBM-DA0321EN-SkillsNetwork-21426264&cm_mmca1=000026UJ&cm_mmca2=10006555&cm_mmca3=M12345678&cvosrc=email.Newsletter.M12345678&cvo_campaign=000026UJ).\n"
            ],
            "metadata": {
                "azdata_cell_guid": "400bc03c-cb8f-4fea-a9d0-178888242a4c"
            }
        }
    ]
}